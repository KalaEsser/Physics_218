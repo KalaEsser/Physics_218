{
 "cells": [
  {
   "cell_type": "markdown",
   "metadata": {},
   "source": [
    "$\\alpha = \\frac{\\Delta L}{L\\Delta T}$"
   ]
  },
  {
   "cell_type": "code",
   "execution_count": 6,
   "metadata": {},
   "outputs": [
    {
     "name": "stdout",
     "output_type": "stream",
     "text": [
      "d Delta T= 0.31622776601683794\n"
     ]
    }
   ],
   "source": [
    "import numpy as np\n",
    "def rule3(errA,errB):\n",
    "    errQ = np.sqrt(errA**2 + errB**2)\n",
    "    return errQ\n",
    "\n",
    "errT_i = 0.3 #C\n",
    "errT_f = 0.1 #C\n",
    "\n",
    "err_Delta_T = rule3(errT_i,errT_f)\n",
    "print (\"d Delta T=\",err_Delta_T)"
   ]
  },
  {
   "cell_type": "code",
   "execution_count": 14,
   "metadata": {},
   "outputs": [
    {
     "name": "stdout",
     "output_type": "stream",
     "text": [
      "alpha= 1.7228309558266145e-05\n",
      "d alpha= 1.6009624755676423e-07\n"
     ]
    }
   ],
   "source": [
    "def rule4(errA,errB,errC,A,B,C,a,b,c,Q):\n",
    "    errQ= Q* np.sqrt(((a*errA)/A)**2 +((b*errB)/B)**2 +((c*errC)/C)**2)\n",
    "    return errQ\n",
    "\n",
    "D_L = 1.25 #mm\n",
    "errD_L = 0.01 #mm\n",
    "L = 1050 #mm\n",
    "errL = 1 #mm\n",
    "D_T = 92.5-23.4 #C\n",
    "errD_T = 0.32 #C\n",
    "\n",
    "def alpha(A,B,C):\n",
    "    a = A*B**(-1)*C**(-1)\n",
    "    return a\n",
    "alpha = alpha(D_L,L,D_T)\n",
    "print(\"alpha=\", alpha)\n",
    "\n",
    "err_alpha= rule4(errD_L,errL,errD_T,D_L,L,D_T,1,-1,-1,alpha)\n",
    "print (\"d alpha=\", err_alpha)"
   ]
  },
  {
   "cell_type": "code",
   "execution_count": null,
   "metadata": {},
   "outputs": [],
   "source": []
  }
 ],
 "metadata": {
  "kernelspec": {
   "display_name": "Python 3",
   "language": "python",
   "name": "python3"
  },
  "language_info": {
   "codemirror_mode": {
    "name": "ipython",
    "version": 3
   },
   "file_extension": ".py",
   "mimetype": "text/x-python",
   "name": "python",
   "nbconvert_exporter": "python",
   "pygments_lexer": "ipython3",
   "version": "3.7.1"
  }
 },
 "nbformat": 4,
 "nbformat_minor": 2
}
