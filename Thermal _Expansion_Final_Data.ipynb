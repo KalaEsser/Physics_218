{
 "cells": [
  {
   "cell_type": "code",
   "execution_count": 2,
   "metadata": {},
   "outputs": [
    {
     "name": "stdout",
     "output_type": "stream",
     "text": [
      "Alpha Copper = 1.7944389209906335e-05\n",
      "Alpha Aluminum = 3.316169803834601e-05\n"
     ]
    }
   ],
   "source": [
    "#Copper#\n",
    "#Length \n",
    "cu_length_i = .6999 #m\n",
    "cu_length_f = .7006 #m\n",
    "cu_dial_i = 0.00 #mm\n",
    "cu_dial_f = .721 #mm\n",
    "\n",
    "#Resistance \n",
    "cu_r_i = 100.8 #kohm\n",
    "# error = 100.5 - 100.9 kohm\n",
    "cu_r_f = 10.64 #kohm\n",
    "# error = 10.51 - 10.74 #kohm\n",
    "\n",
    "#Temperature\n",
    "cu_temp_i = 24.68 #C\n",
    "cu_temp_f = 80.36 #C\n",
    "#error range_f = 80.71 - 80.9\n",
    "\n",
    "\n",
    "#Aluminum#\n",
    "#Length \n",
    "al_length_i = .6995 #m\n",
    "al_length_f = .700645 #m\n",
    "al_dial_i = 0.00 #mm\n",
    "al_dial_f = 1.145 #mm\n",
    "\n",
    "#Resistance \n",
    "al_r_i = 93.9 #kohm\n",
    "#93.9 - 95.9 #kohm\n",
    "#al_r_f = \n",
    "#error range = \n",
    "\n",
    "#Temperature\n",
    "al_temp_i = 26.20 #C\n",
    "al_temp_f = 75.48 #C\n",
    "Al_error_range_i = 26.18 - 25.75 #C\n",
    "Al_error_range_f = 75.48 - 75.61 #C\n",
    "\n",
    "def d_l(length_i, length_f):\n",
    "    d_l = length_f - length_i\n",
    "    return d_l\n",
    "\n",
    "def d_t(temp_f, temp_i):\n",
    "    d_t = temp_f - temp_i\n",
    "    return d_t\n",
    "\n",
    "Cu_dl = d_l(cu_length_i, cu_length_f) #m\n",
    "Cu_dt = d_t(cu_temp_f, cu_temp_i)\n",
    "Al_dl = d_l(al_length_i, al_length_f) #m\n",
    "Al_dt = d_t(al_temp_f, al_temp_i)\n",
    "\n",
    "def linear_expansion(d_L, L, d_T):\n",
    "    coefficient = d_L / (L*d_T)\n",
    "    return coefficient\n",
    "\n",
    "    \n",
    "Copper = linear_expansion(Cu_dl, cu_length_f, Cu_dt)\n",
    "print(\"Alpha Copper =\", Copper)\n",
    "\n",
    "Aluminum = linear_expansion(Al_dl, al_length_f, Al_dt)\n",
    "print(\"Alpha Aluminum =\", Aluminum)\n"
   ]
  },
  {
   "cell_type": "markdown",
   "metadata": {},
   "source": [
    "Error in Temp"
   ]
  },
  {
   "cell_type": "code",
   "execution_count": 6,
   "metadata": {
    "scrolled": true
   },
   "outputs": [
    {
     "name": "stdout",
     "output_type": "stream",
     "text": [
      "Copper error in dT= 0.09513148795220225 C\n",
      "Aluminum error in dT= 0.22461077445216124 C\n"
     ]
    }
   ],
   "source": [
    "import numpy as np\n",
    "def rule3(errA,errB):\n",
    "    errQ = np.sqrt(errA**2 + errB**2)\n",
    "    return errQ\n",
    "\n",
    "Cu_errT_i = 0.01 / 2 #C\n",
    "Cu_errT_f = 0.19 / 2 #C\n",
    "Al_errT_i = Al_error_range_i / 2 #C\n",
    "Al_errT_f = Al_error_range_f / 2 #C\n",
    "\n",
    "Cu_err_Delta_T = rule3(Cu_errT_i,Cu_errT_f)\n",
    "Al_err_Delta_T = rule3(Al_errT_i, Al_errT_f)\n",
    "print (\"Copper error in dT=\",Cu_err_Delta_T, \"C\")\n",
    "print (\"Aluminum error in dT=\", Al_err_Delta_T, \"C\")"
   ]
  },
  {
   "cell_type": "markdown",
   "metadata": {},
   "source": [
    "Error in Length"
   ]
  },
  {
   "cell_type": "code",
   "execution_count": 7,
   "metadata": {},
   "outputs": [
    {
     "name": "stdout",
     "output_type": "stream",
     "text": [
      "Error Delta L = 0.0005000249993750313 m\n"
     ]
    }
   ],
   "source": [
    "#It's the same for each metal\n",
    "\n",
    "errorL_i = 0.0005 #m\n",
    "errorL_f = 0.000005 #m\n",
    "\n",
    "errD_L = rule3(errorL_i, errorL_f)\n",
    "print (\"Error Delta L =\", errD_L, \"m\")"
   ]
  },
  {
   "cell_type": "markdown",
   "metadata": {},
   "source": [
    "Error in Alpha"
   ]
  },
  {
   "cell_type": "code",
   "execution_count": 8,
   "metadata": {},
   "outputs": [
    {
     "name": "stdout",
     "output_type": "stream",
     "text": [
      "Alpha Aluminum = 3.316169803834601e-05\n",
      "Aluminum error in alpha = 1.4481975771886498e-05\n",
      "Alpha Copper = 1.7944389209906335e-05\n",
      "Copper error in alpha = 1.281827252153134e-05\n",
      "aluminum ratio =  0.4367079078743342\n",
      "copper ratio =  0.7143331752108295\n"
     ]
    }
   ],
   "source": [
    "def rule4(errA,errB,errC,A,B,C,a,b,c,Q):\n",
    "    errQ= Q* np.sqrt(((a*errA)/A)**2 +((b*errB)/B)**2 +((c*errC)/C)**2)\n",
    "    return errQ\n",
    "\n",
    "Al_err_alpha= rule4(errD_L,errorL_i,Cu_err_Delta_T,Al_dl,al_length_i,Al_dt,1,-1,-1,Aluminum)\n",
    "Cu_err_alpha= rule4(errD_L,errorL_i,Al_err_Delta_T,Cu_dl,cu_length_i,Cu_dt,1,-1,-1,Copper)\n",
    "print(\"Alpha Aluminum =\", Aluminum)\n",
    "print (\"Aluminum error in alpha =\", Al_err_alpha)\n",
    "print(\"Alpha Copper =\", Copper)\n",
    "print (\"Copper error in alpha =\", Cu_err_alpha)\n",
    "\n",
    "print (\"aluminum ratio = \", Al_err_alpha / Aluminum)\n",
    "print (\"copper ratio = \", Cu_err_alpha / Copper)"
   ]
  },
  {
   "cell_type": "code",
   "execution_count": null,
   "metadata": {},
   "outputs": [],
   "source": []
  }
 ],
 "metadata": {
  "kernelspec": {
   "display_name": "Python 3",
   "language": "python",
   "name": "python3"
  },
  "language_info": {
   "codemirror_mode": {
    "name": "ipython",
    "version": 3
   },
   "file_extension": ".py",
   "mimetype": "text/x-python",
   "name": "python",
   "nbconvert_exporter": "python",
   "pygments_lexer": "ipython3",
   "version": "3.7.1"
  }
 },
 "nbformat": 4,
 "nbformat_minor": 2
}
