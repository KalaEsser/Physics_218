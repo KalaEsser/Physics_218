{
 "cells": [
  {
   "cell_type": "markdown",
   "metadata": {},
   "source": [
    "Ashley Bielawski & Kala \n",
    "Jan 17, 2019 Functions Excersize"
   ]
  },
  {
   "cell_type": "markdown",
   "metadata": {},
   "source": [
    "# Python Functions & Arrays"
   ]
  },
  {
   "cell_type": "code",
   "execution_count": 8,
   "metadata": {},
   "outputs": [],
   "source": [
    "import numpy as np"
   ]
  },
  {
   "cell_type": "markdown",
   "metadata": {},
   "source": [
    "Create a function. For this example, use the equation for total energy.\n",
    "Energy : $TE = \\frac{1}{2}mv^2 + mgh$"
   ]
  },
  {
   "cell_type": "markdown",
   "metadata": {},
   "source": [
    "$\\frac{1}{2} \\alpha \\Delta \\sigma \\Sigma$"
   ]
  },
  {
   "cell_type": "code",
   "execution_count": 9,
   "metadata": {},
   "outputs": [],
   "source": [
    "def total_E(m,v,h):\n",
    "    TE = 1/2*m*v**2 + m*9.8*h\n",
    "    return TE\n"
   ]
  },
  {
   "cell_type": "code",
   "execution_count": 14,
   "metadata": {},
   "outputs": [
    {
     "name": "stdout",
     "output_type": "stream",
     "text": [
      "Total energy =  9095.625000000002 Joules\n"
     ]
    }
   ],
   "source": [
    "m = 45 #kg\n",
    "v = 3.5 #m/s\n",
    "h = 20 #m\n",
    "\n",
    "total_energy = total_E(m,v,h)\n",
    "print (\"Total energy = \",total_energy,\"Joules\")"
   ]
  },
  {
   "cell_type": "code",
   "execution_count": 17,
   "metadata": {},
   "outputs": [
    {
     "name": "stdout",
     "output_type": "stream",
     "text": [
      "[ 3  6  9 12 15]\n"
     ]
    }
   ],
   "source": [
    "mass_array = np.array([1,2,3,4,5])\n",
    "velocity_array = np.array([3,9,12,34,59])\n",
    "height_array = np.array([2,4,6,8,10])\n",
    "\n",
    "trp_mass = 3*mass_array\n",
    "print (trp_mass)"
   ]
  },
  {
   "cell_type": "code",
   "execution_count": 18,
   "metadata": {},
   "outputs": [
    {
     "name": "stdout",
     "output_type": "stream",
     "text": [
      "[  24.1  159.4  392.4 2625.6 9192.5]\n"
     ]
    }
   ],
   "source": [
    "total_e_array = total_E(mass_array,velocity_array,height_array)\n",
    "print (total_e_array)"
   ]
  },
  {
   "cell_type": "code",
   "execution_count": null,
   "metadata": {},
   "outputs": [],
   "source": []
  }
 ],
 "metadata": {
  "kernelspec": {
   "display_name": "Python 3",
   "language": "python",
   "name": "python3"
  },
  "language_info": {
   "codemirror_mode": {
    "name": "ipython",
    "version": 3
   },
   "file_extension": ".py",
   "mimetype": "text/x-python",
   "name": "python",
   "nbconvert_exporter": "python",
   "pygments_lexer": "ipython3",
   "version": "3.7.1"
  }
 },
 "nbformat": 4,
 "nbformat_minor": 2
}
