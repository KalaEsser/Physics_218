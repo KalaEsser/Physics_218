{
 "cells": [
  {
   "cell_type": "code",
   "execution_count": 13,
   "metadata": {},
   "outputs": [
    {
     "name": "stdout",
     "output_type": "stream",
     "text": [
      "Alpha Copper = 1.794438920990736e-05\n",
      "Alpha Aluminum = 3.316169803834524e-05\n"
     ]
    }
   ],
   "source": [
    "#Copper#\n",
    "#Length \n",
    "cu_length_i = 69.99 #cm\n",
    "cu_length_f = 70.06 #cm\n",
    "cu_dial_i = 0.00 #mm\n",
    "cu_dial_f = .721 #mm\n",
    "\n",
    "#Resistance \n",
    "cu_r_i = 100.8 #kohm\n",
    "# error = 100.5 - 100.9 kohm\n",
    "cu_r_f = 10.64 #kohm\n",
    "# error = 10.51 - 10.74 #kohm\n",
    "\n",
    "#Temperature\n",
    "cu_temp_i = 24.68 #C\n",
    "cu_temp_f = 80.36 #C\n",
    "#error range = 80.71 - 80.9\n",
    "\n",
    "\n",
    "#Aluminum#\n",
    "#Length \n",
    "al_length_i = 69.95 #cm\n",
    "al_length_f = 70.0645 #cm\n",
    "al_dial_i = 0.00 #mm\n",
    "al_dial_f = 1.145 #mm\n",
    "\n",
    "#Resistance \n",
    "al_r_i = 93.9 #kohm\n",
    "#93.9 - 95.9 #kohm\n",
    "#al_r_f = \n",
    "#error range = \n",
    "\n",
    "#Temperature\n",
    "al_temp_i = 26.20 #C\n",
    "al_temp_f = 75.48 #C\n",
    "#error_range_i = 25.75 - 26.18 #C\n",
    "#error_range_f = 75.48 - 75.61 #C\n",
    "\n",
    "def d_l(length_i, length_f):\n",
    "    d_l = length_f - length_i\n",
    "    return d_l\n",
    "\n",
    "def d_t(temp_f, temp_i):\n",
    "    d_t = temp_f - temp_i\n",
    "    return d_t\n",
    "\n",
    "Cu_dl = d_l(cu_length_i, cu_length_f)\n",
    "Cu_dt = d_t(cu_temp_f, cu_temp_i)\n",
    "Al_dl = d_l(al_length_i, al_length_f)\n",
    "Al_dt = d_t(al_temp_f, al_temp_i)\n",
    "\n",
    "def linear_expansion(d_L, L, d_T):\n",
    "    coefficient = d_L / (L*d_T)\n",
    "    return coefficient\n",
    "\n",
    "    \n",
    "Copper = linear_expansion(Cu_dl, cu_length_f, Cu_dt)\n",
    "print(\"Alpha Copper =\", Copper)\n",
    "\n",
    "Aluminum = linear_expansion(Al_dl, al_length_f, Al_dt)\n",
    "print(\"Alpha Aluminum =\", Aluminum)\n"
   ]
  },
  {
   "cell_type": "code",
   "execution_count": null,
   "metadata": {},
   "outputs": [],
   "source": []
  }
 ],
 "metadata": {
  "kernelspec": {
   "display_name": "Python 3",
   "language": "python",
   "name": "python3"
  },
  "language_info": {
   "codemirror_mode": {
    "name": "ipython",
    "version": 3
   },
   "file_extension": ".py",
   "mimetype": "text/x-python",
   "name": "python",
   "nbconvert_exporter": "python",
   "pygments_lexer": "ipython3",
   "version": "3.7.1"
  }
 },
 "nbformat": 4,
 "nbformat_minor": 2
}
